{
  "cells": [
    {
      "cell_type": "code",
      "source": [
        "!pip install pyspark"
      ],
      "metadata": {
        "id": "abrqr-hEpVbO",
        "outputId": "bf405c7d-8282-4da8-d8c6-b0fdb7610b46",
        "colab": {
          "base_uri": "https://localhost:8080/"
        }
      },
      "execution_count": 1,
      "outputs": [
        {
          "output_type": "stream",
          "name": "stdout",
          "text": [
            "Collecting pyspark\n",
            "  Downloading pyspark-3.5.1.tar.gz (317.0 MB)\n",
            "\u001b[2K     \u001b[90m━━━━━━━━━━━━━━━━━━━━━━━━━━━━━━━━━━━━━━━━\u001b[0m \u001b[32m317.0/317.0 MB\u001b[0m \u001b[31m3.8 MB/s\u001b[0m eta \u001b[36m0:00:00\u001b[0m\n",
            "\u001b[?25h  Preparing metadata (setup.py) ... \u001b[?25l\u001b[?25hdone\n",
            "Requirement already satisfied: py4j==0.10.9.7 in /usr/local/lib/python3.10/dist-packages (from pyspark) (0.10.9.7)\n",
            "Building wheels for collected packages: pyspark\n",
            "  Building wheel for pyspark (setup.py) ... \u001b[?25l\u001b[?25hdone\n",
            "  Created wheel for pyspark: filename=pyspark-3.5.1-py2.py3-none-any.whl size=317488491 sha256=e1870346e7cf40f3cf6985d5afcb483c4b63bb1b78a9568c34b6fb8d03f287fb\n",
            "  Stored in directory: /root/.cache/pip/wheels/80/1d/60/2c256ed38dddce2fdd93be545214a63e02fbd8d74fb0b7f3a6\n",
            "Successfully built pyspark\n",
            "Installing collected packages: pyspark\n",
            "Successfully installed pyspark-3.5.1\n"
          ]
        }
      ]
    },
    {
      "cell_type": "code",
      "source": [
        "!pip install matplotlib\n"
      ],
      "metadata": {
        "id": "Av6CX7mA0hbx",
        "outputId": "369664ab-0eeb-45e6-c975-03814c934641",
        "colab": {
          "base_uri": "https://localhost:8080/"
        }
      },
      "execution_count": 40,
      "outputs": [
        {
          "output_type": "stream",
          "name": "stdout",
          "text": [
            "Requirement already satisfied: matplotlib in /usr/local/lib/python3.10/dist-packages (3.7.1)\n",
            "Requirement already satisfied: contourpy>=1.0.1 in /usr/local/lib/python3.10/dist-packages (from matplotlib) (1.2.1)\n",
            "Requirement already satisfied: cycler>=0.10 in /usr/local/lib/python3.10/dist-packages (from matplotlib) (0.12.1)\n",
            "Requirement already satisfied: fonttools>=4.22.0 in /usr/local/lib/python3.10/dist-packages (from matplotlib) (4.53.0)\n",
            "Requirement already satisfied: kiwisolver>=1.0.1 in /usr/local/lib/python3.10/dist-packages (from matplotlib) (1.4.5)\n",
            "Requirement already satisfied: numpy>=1.20 in /usr/local/lib/python3.10/dist-packages (from matplotlib) (1.25.2)\n",
            "Requirement already satisfied: packaging>=20.0 in /usr/local/lib/python3.10/dist-packages (from matplotlib) (24.1)\n",
            "Requirement already satisfied: pillow>=6.2.0 in /usr/local/lib/python3.10/dist-packages (from matplotlib) (9.4.0)\n",
            "Requirement already satisfied: pyparsing>=2.3.1 in /usr/local/lib/python3.10/dist-packages (from matplotlib) (3.1.2)\n",
            "Requirement already satisfied: python-dateutil>=2.7 in /usr/local/lib/python3.10/dist-packages (from matplotlib) (2.8.2)\n",
            "Requirement already satisfied: six>=1.5 in /usr/local/lib/python3.10/dist-packages (from python-dateutil>=2.7->matplotlib) (1.16.0)\n"
          ]
        }
      ]
    },
    {
      "cell_type": "code",
      "source": [
        "from pyspark.sql import SparkSession\n",
        "from matplotlib import pyplot as plt"
      ],
      "metadata": {
        "id": "Nc1Hrkv0uXRf"
      },
      "execution_count": 41,
      "outputs": []
    },
    {
      "cell_type": "code",
      "source": [
        "spark = SparkSession.builder.appName('Hive_table').getOrCreate()"
      ],
      "metadata": {
        "id": "c1T4L-F2uzUQ"
      },
      "execution_count": 14,
      "outputs": []
    },
    {
      "cell_type": "code",
      "source": [
        "df = spark.read.csv('/content/BostonHousing-1.csv', header=True, inferSchema=True)"
      ],
      "metadata": {
        "id": "KdqvkDfnuZ4Q"
      },
      "execution_count": 16,
      "outputs": []
    },
    {
      "cell_type": "code",
      "source": [
        "df = df.createOrReplaceTempView(\"boston_housing_data\")"
      ],
      "metadata": {
        "id": "aHL-sFCKu93S"
      },
      "execution_count": 17,
      "outputs": []
    },
    {
      "cell_type": "markdown",
      "source": [
        "**Task 1 **"
      ],
      "metadata": {
        "id": "x_Jwh158vRcu"
      }
    },
    {
      "cell_type": "markdown",
      "source": [
        "First 5 Row"
      ],
      "metadata": {
        "id": "u7PmiHs1vjDe"
      }
    },
    {
      "cell_type": "code",
      "source": [
        "spark.sql(\"Select * from boston_housing_data\").show(5)"
      ],
      "metadata": {
        "id": "a7Y-4He3vKDm",
        "outputId": "6d398e7d-575b-41bf-c6de-d547407b680a",
        "colab": {
          "base_uri": "https://localhost:8080/"
        }
      },
      "execution_count": 20,
      "outputs": [
        {
          "output_type": "stream",
          "name": "stdout",
          "text": [
            "+-------+----+-----+----+-----+-----+----+------+---+---+-------+------+-----+----+\n",
            "|   crim|  zn|indus|chas|  nox|   rm| age|   dis|rad|tax|ptratio|     b|lstat|medv|\n",
            "+-------+----+-----+----+-----+-----+----+------+---+---+-------+------+-----+----+\n",
            "|0.00632|18.0| 2.31|   0|0.538|6.575|65.2|  4.09|  1|296|   15.3| 396.9| 4.98|24.0|\n",
            "|0.02731| 0.0| 7.07|   0|0.469|6.421|78.9|4.9671|  2|242|   17.8| 396.9| 9.14|21.6|\n",
            "|0.02729| 0.0| 7.07|   0|0.469|7.185|61.1|4.9671|  2|242|   17.8|392.83| 4.03|34.7|\n",
            "|0.03237| 0.0| 2.18|   0|0.458|6.998|45.8|6.0622|  3|222|   18.7|394.63| 2.94|33.4|\n",
            "|0.06905| 0.0| 2.18|   0|0.458|7.147|54.2|6.0622|  3|222|   18.7| 396.9| 5.33|36.2|\n",
            "+-------+----+-----+----+-----+-----+----+------+---+---+-------+------+-----+----+\n",
            "only showing top 5 rows\n",
            "\n"
          ]
        }
      ]
    },
    {
      "cell_type": "markdown",
      "source": [
        "Total Number of Record"
      ],
      "metadata": {
        "id": "o_-Qa0YLvlk2"
      }
    },
    {
      "cell_type": "code",
      "source": [
        "spark.sql(\"Select count(*) As Total_Record from boston_housing_data\").show()"
      ],
      "metadata": {
        "id": "OaaU_IB5vfVt",
        "outputId": "1923627e-8354-4c96-d1d4-11dd67b68b37",
        "colab": {
          "base_uri": "https://localhost:8080/"
        }
      },
      "execution_count": 22,
      "outputs": [
        {
          "output_type": "stream",
          "name": "stdout",
          "text": [
            "+------------+\n",
            "|Total_Record|\n",
            "+------------+\n",
            "|         506|\n",
            "+------------+\n",
            "\n"
          ]
        }
      ]
    },
    {
      "cell_type": "markdown",
      "source": [
        "Task 2: Descriptive Statistics"
      ],
      "metadata": {
        "id": "e_IVxvoowAeO"
      }
    },
    {
      "cell_type": "markdown",
      "source": [
        "Calculate and display basic statistics (mean, standard deviation, min, max) for the \"medv\" (median home value) column."
      ],
      "metadata": {
        "id": "k-TGU0A5xb7C"
      }
    },
    {
      "cell_type": "code",
      "source": [
        "spark.sql(\"Select round(avg(medv),2) As Mean,round(std(medv),2) As Standard_Deviation, min(medv) As Min , max(medv)  As Max from  boston_housing_data\").show()"
      ],
      "metadata": {
        "id": "LjtAeLYFv4iG",
        "outputId": "e1b305fa-bf0f-4df9-8bd4-3935b90d2dd7",
        "colab": {
          "base_uri": "https://localhost:8080/"
        }
      },
      "execution_count": 30,
      "outputs": [
        {
          "output_type": "stream",
          "name": "stdout",
          "text": [
            "+-----+------------------+---+----+\n",
            "| Mean|Standard_Deviation|Min| Max|\n",
            "+-----+------------------+---+----+\n",
            "|22.53|               9.2|5.0|50.0|\n",
            "+-----+------------------+---+----+\n",
            "\n"
          ]
        }
      ]
    },
    {
      "cell_type": "markdown",
      "source": [
        "Calculate and display the mean \"rm\" (average number of rooms per dwelling)."
      ],
      "metadata": {
        "id": "W7I9SGdcxgMM"
      }
    },
    {
      "cell_type": "markdown",
      "source": [],
      "metadata": {
        "id": "ikFtUObTxryH"
      }
    },
    {
      "cell_type": "code",
      "source": [
        "spark.sql(\"Select round(avg(rm),2) As Mean from boston_housing_data\").show()"
      ],
      "metadata": {
        "id": "kT3oB9zsxsPT",
        "outputId": "706a8d16-fdc6-463f-c73f-926974b4f9d7",
        "colab": {
          "base_uri": "https://localhost:8080/"
        }
      },
      "execution_count": 33,
      "outputs": [
        {
          "output_type": "stream",
          "name": "stdout",
          "text": [
            "+----+\n",
            "|Mean|\n",
            "+----+\n",
            "|6.28|\n",
            "+----+\n",
            "\n"
          ]
        }
      ]
    },
    {
      "cell_type": "markdown",
      "source": [
        "Task 3: Data Exploration"
      ],
      "metadata": {
        "id": "zTm5DtWryt9o"
      }
    },
    {
      "cell_type": "markdown",
      "source": [
        "Identify the property with the highest crime rate (\"crim\"). Provide details about this property."
      ],
      "metadata": {
        "id": "7jB4OS98yvPp"
      }
    },
    {
      "cell_type": "code",
      "source": [
        "spark.sql(\"Select * from boston_housing_data where ORDER BY crim DESC LIMIT 1 \").show()"
      ],
      "metadata": {
        "id": "GhGpZPWCxwEp",
        "outputId": "e95d4dd5-10ae-4164-c43e-9db489a01e76",
        "colab": {
          "base_uri": "https://localhost:8080/"
        }
      },
      "execution_count": 36,
      "outputs": [
        {
          "output_type": "stream",
          "name": "stdout",
          "text": [
            "+-------+---+-----+----+-----+-----+----+------+---+---+-------+-----+-----+----+\n",
            "|   crim| zn|indus|chas|  nox|   rm| age|   dis|rad|tax|ptratio|    b|lstat|medv|\n",
            "+-------+---+-----+----+-----+-----+----+------+---+---+-------+-----+-----+----+\n",
            "|88.9762|0.0| 18.1|   0|0.671|6.968|91.9|1.4165| 24|666|   20.2|396.9|17.21|10.4|\n",
            "+-------+---+-----+----+-----+-----+----+------+---+---+-------+-----+-----+----+\n",
            "\n"
          ]
        }
      ]
    },
    {
      "cell_type": "markdown",
      "source": [
        "Find and report the property with the lowest median home value (\"medv\"). Include its details."
      ],
      "metadata": {
        "id": "joVui0dSzqP2"
      }
    },
    {
      "cell_type": "code",
      "source": [
        "spark.sql(\"Select * from boston_housing_data where ORDER BY medv  LIMIT 1 \").show()"
      ],
      "metadata": {
        "id": "DJArxOg5xwCb",
        "outputId": "1753c31e-02c2-4a90-af6b-87305386ceda",
        "colab": {
          "base_uri": "https://localhost:8080/"
        }
      },
      "execution_count": 39,
      "outputs": [
        {
          "output_type": "stream",
          "name": "stdout",
          "text": [
            "+-------+---+-----+----+-----+-----+-----+------+---+---+-------+-----+-----+----+\n",
            "|   crim| zn|indus|chas|  nox|   rm|  age|   dis|rad|tax|ptratio|    b|lstat|medv|\n",
            "+-------+---+-----+----+-----+-----+-----+------+---+---+-------+-----+-----+----+\n",
            "|38.3518|0.0| 18.1|   0|0.693|5.453|100.0|1.4896| 24|666|   20.2|396.9|30.59| 5.0|\n",
            "+-------+---+-----+----+-----+-----+-----+------+---+---+-------+-----+-----+----+\n",
            "\n"
          ]
        }
      ]
    },
    {
      "cell_type": "markdown",
      "source": [
        "Task 4: Data Distribution Analysis"
      ],
      "metadata": {
        "id": "A1AM3QcHz2mW"
      }
    },
    {
      "cell_type": "markdown",
      "source": [
        "Create a histogram showing the distribution of the \"age\" column."
      ],
      "metadata": {
        "id": "NsQOs78E0Egz"
      }
    },
    {
      "cell_type": "code",
      "source": [
        "age_df = spark.sql(\"Select age from boston_housing_data\")"
      ],
      "metadata": {
        "id": "RcPEGadoxwAC"
      },
      "execution_count": 42,
      "outputs": []
    },
    {
      "cell_type": "code",
      "source": [
        "age_df = age_df.toPandas()"
      ],
      "metadata": {
        "id": "K2PgnuGz0tLt"
      },
      "execution_count": 43,
      "outputs": []
    },
    {
      "cell_type": "code",
      "source": [
        "plt.hist(age_df['age'],edgecolor='k')\n",
        "plt.xlabel('Age')\n",
        "plt.ylabel('Frequency')\n",
        "plt.title('Histogram of Age')\n",
        "plt.show()"
      ],
      "metadata": {
        "id": "txU5iw0Rxv97",
        "outputId": "f06ed4e3-6e4a-4397-c183-480bc2b5dba2",
        "colab": {
          "base_uri": "https://localhost:8080/",
          "height": 472
        }
      },
      "execution_count": 48,
      "outputs": [
        {
          "output_type": "display_data",
          "data": {
            "text/plain": [
              "<Figure size 640x480 with 1 Axes>"
            ],
            "image/png": "[encoded data removed]"
          },
          "metadata": {}
        }
      ]
    },
    {
      "cell_type": "markdown",
      "source": [
        "Calculate and report the percentage of properties with a \"chas\" value of 1 (indicating proximity to the Charles River)."
      ],
      "metadata": {
        "id": "Ls_DzCzQ1mMz"
      }
    },
    {
      "cell_type": "code",
      "source": [
        "tr = spark.sql(\"select count(*) as Total_Count  from boston_housing_data\").collect()[0][0]\n",
        "tk = spark.sql(\"select count(*) as Total_k  from boston_housing_data where chas = 1\").collect()[0][0]"
      ],
      "metadata": {
        "id": "Cc0OOODXxv7f"
      },
      "execution_count": 58,
      "outputs": []
    },
    {
      "cell_type": "code",
      "source": [
        "pr = round((tk/tr)*100,2)\n",
        "print(f\"Percentage of properties with a 'chas' value of 1 (indicating proximity to the Charles River) is {pr}\")"
      ],
      "metadata": {
        "id": "oxhttYFSxv5L",
        "outputId": "3b497b7c-0f63-4d13-d456-70f3d325f6c8",
        "colab": {
          "base_uri": "https://localhost:8080/"
        }
      },
      "execution_count": 61,
      "outputs": [
        {
          "output_type": "stream",
          "name": "stdout",
          "text": [
            "Percentage of properties with a 'chas' value of 1 (indicating proximity to the Charles River) is 6.92\n"
          ]
        }
      ]
    },
    {
      "cell_type": "markdown",
      "source": [
        "Task 5: Correlation Analysis"
      ],
      "metadata": {
        "id": "xukTlXIV39g4"
      }
    },
    {
      "cell_type": "markdown",
      "source": [
        "Calculate the correlation coefficient between \"rm\" and \"medv.\" Explain the relationship between the average number of rooms and median home value."
      ],
      "metadata": {
        "id": "YDLr8WFM4Cym"
      }
    },
    {
      "cell_type": "code",
      "source": [
        "spark.sql(\"select round(corr(rm,medv),4) As correlation_coefficient from boston_housing_data\").show()"
      ],
      "metadata": {
        "id": "UXaBqLYGxv22",
        "outputId": "bd8da2bf-cdb3-41bf-f4f3-45735db37f0f",
        "colab": {
          "base_uri": "https://localhost:8080/"
        }
      },
      "execution_count": 65,
      "outputs": [
        {
          "output_type": "stream",
          "name": "stdout",
          "text": [
            "+-----------------------+\n",
            "|correlation_coefficient|\n",
            "+-----------------------+\n",
            "|                 0.6954|\n",
            "+-----------------------+\n",
            "\n"
          ]
        }
      ]
    },
    {
      "cell_type": "markdown",
      "source": [
        "Investigate if there is any correlation between \"ptratio\" (pupil-teacher ratio) and \"nox\" (nitrogen oxide concentration). Report your findings."
      ],
      "metadata": {
        "id": "41y-wh294l7G"
      }
    },
    {
      "cell_type": "code",
      "source": [
        "spark.sql(\"select round(corr(ptratio,nox),4) As correlation_coefficient from boston_housing_data\").show()"
      ],
      "metadata": {
        "id": "4Avl1Xe7xv0j",
        "outputId": "b5cdda2d-be8c-46a4-eb3a-7ea34f22bafa",
        "colab": {
          "base_uri": "https://localhost:8080/"
        }
      },
      "execution_count": 68,
      "outputs": [
        {
          "output_type": "stream",
          "name": "stdout",
          "text": [
            "+-----------------------+\n",
            "|correlation_coefficient|\n",
            "+-----------------------+\n",
            "|                 0.1889|\n",
            "+-----------------------+\n",
            "\n"
          ]
        }
      ]
    },
    {
      "cell_type": "markdown",
      "source": [
        "Task 6: Advanced Querying"
      ],
      "metadata": {
        "id": "-6jdeyx64_tj"
      }
    },
    {
      "cell_type": "markdown",
      "source": [
        "Write a HiveQL query to identify and display the top 5 neighborhoods with the highest median home values (\"medv\").\n"
      ],
      "metadata": {
        "id": "0qsE5kUu5kqG"
      }
    },
    {
      "cell_type": "code",
      "source": [
        "spark.sql(\"select * from boston_housing_data where ORDER BY medv desc LIMIT 5\").show()"
      ],
      "metadata": {
        "id": "RQ6ZP0Yu4_Nz",
        "outputId": "7e1e2e6c-51e1-42e0-ac9f-0142a4650bfe",
        "colab": {
          "base_uri": "https://localhost:8080/"
        }
      },
      "execution_count": 71,
      "outputs": [
        {
          "output_type": "stream",
          "name": "stdout",
          "text": [
            "+-------+----+-----+----+-----+-----+----+------+---+---+-------+------+-----+----+\n",
            "|   crim|  zn|indus|chas|  nox|   rm| age|   dis|rad|tax|ptratio|     b|lstat|medv|\n",
            "+-------+----+-----+----+-----+-----+----+------+---+---+-------+------+-----+----+\n",
            "|1.51902| 0.0|19.58|   1|0.605|8.375|93.9| 2.162|  5|403|   14.7|388.45| 3.32|50.0|\n",
            "|0.01381|80.0| 0.46|   0|0.422|7.875|32.0|5.6484|  4|255|   14.4|394.23| 2.97|50.0|\n",
            "|2.01019| 0.0|19.58|   0|0.605|7.929|96.2|2.0459|  5|403|   14.7| 369.3|  3.7|50.0|\n",
            "|1.83377| 0.0|19.58|   1|0.605|7.802|98.2|2.0407|  5|403|   14.7|389.61| 1.92|50.0|\n",
            "|1.46336| 0.0|19.58|   0|0.605|7.489|90.8|1.9709|  5|403|   14.7|374.43| 1.73|50.0|\n",
            "+-------+----+-----+----+-----+-----+----+------+---+---+-------+------+-----+----+\n",
            "\n"
          ]
        }
      ]
    },
    {
      "cell_type": "markdown",
      "source": [
        "Calculate and report the average property age for neighborhoods with a \"chas\" value of 1 compared to those with \"chas\" value of 0."
      ],
      "metadata": {
        "id": "E3itUtbY6jIo"
      }
    },
    {
      "cell_type": "code",
      "source": [
        "sp_1 = spark.sql(\"select avg(age) as avg_age  from boston_housing_data where chas = 1\").collect()[0][0]\n",
        "sp_0 = spark.sql(\"select avg(age) as avg_age  from boston_housing_data where chas = 0\").collect()[0][0]\n",
        "# Print the results\n",
        "print(f\"Average property age for neighborhoods with 'chas' value of 1: {sp_1:.2f}\")\n",
        "print(f\"Average property age for neighborhoods with 'chas' value of 0: {sp_0:.2f}\")\n"
      ],
      "metadata": {
        "id": "4b61BnY-xvyT",
        "outputId": "30e1851c-6455-42e3-dce4-47a375b6e27e",
        "colab": {
          "base_uri": "https://localhost:8080/"
        }
      },
      "execution_count": 77,
      "outputs": [
        {
          "output_type": "stream",
          "name": "stdout",
          "text": [
            "Average property age for neighborhoods with 'chas' value of 1: 77.50\n",
            "Average property age for neighborhoods with 'chas' value of 0: 67.91\n"
          ]
        }
      ]
    },
    {
      "cell_type": "markdown",
      "source": [
        "Task 7: Visualization\n",
        "\n"
      ],
      "metadata": {
        "id": "bOK-l7fh8hA2"
      }
    },
    {
      "cell_type": "markdown",
      "source": [
        "Create a Hive view named \"property_age_view\" that includes the \"age\" and \"medv\" columns."
      ],
      "metadata": {
        "id": "vUA7X-ft8nBK"
      }
    },
    {
      "cell_type": "code",
      "source": [
        "create_view_query = \"\"\"\n",
        "CREATE VIEW property_age_view AS\n",
        "SELECT age, medv\n",
        "FROM boston_housing_data\n",
        "\"\"\"\n"
      ],
      "metadata": {
        "id": "kMGxEjWyxvwF"
      },
      "execution_count": 81,
      "outputs": []
    },
    {
      "cell_type": "markdown",
      "source": [
        "Plot a scatter plot of property age against median home value using a data visualization tool of your choice."
      ],
      "metadata": {
        "id": "_OL4d2pw-Guw"
      }
    },
    {
      "cell_type": "code",
      "source": [
        "age_pf = spark.sql(\"Select age from boston_housing_data\").toPandas()\n",
        "medv_pf = spark.sql(\"Select medv from boston_housing_data\").toPandas()"
      ],
      "metadata": {
        "id": "JOH0nUc_-Gdn"
      },
      "execution_count": 83,
      "outputs": []
    },
    {
      "cell_type": "code",
      "source": [
        "plt.scatter(age_pf['age'], medv_pf['medv'])\n",
        "plt.xlabel('Age')\n",
        "plt.ylabel('Median Home Value')\n",
        "plt.title('Scatter Plot of Age vs Median Home Value')\n",
        "plt.show()"
      ],
      "metadata": {
        "id": "63WECVB1-UIf",
        "outputId": "daab4a8b-dd1b-4b8a-f4f1-9e64adbae18c",
        "colab": {
          "base_uri": "https://localhost:8080/",
          "height": 472
        }
      },
      "execution_count": 84,
      "outputs": [
        {
          "output_type": "display_data",
          "data": {
            "text/plain": [
              "<Figure size 640x480 with 1 Axes>"
            ],
            "image/png": "[encoded data removed]"
          },
          "metadata": {}
        }
      ]
    },
    {
      "cell_type": "markdown",
      "source": [
        "Task 8: Outliers Detection"
      ],
      "metadata": {
        "id": "8IXhScEb-g3R"
      }
    },
    {
      "cell_type": "markdown",
      "source": [
        "Write a query to identify and report properties with a \"crim\" value greater than 10 (considered as potential outliers)."
      ],
      "metadata": {
        "id": "FryhCHPh-xtR"
      }
    },
    {
      "cell_type": "code",
      "source": [
        "spark.sql(\"select * from boston_housing_data where crim > 10\").show()"
      ],
      "metadata": {
        "id": "GfUbOeLKxvtw",
        "outputId": "9171cd3b-630b-4d9f-c239-ecb943e037ee",
        "colab": {
          "base_uri": "https://localhost:8080/"
        }
      },
      "execution_count": 85,
      "outputs": [
        {
          "output_type": "stream",
          "name": "stdout",
          "text": [
            "+-------+---+-----+----+-----+-----+-----+------+---+---+-------+------+-----+----+\n",
            "|   crim| zn|indus|chas|  nox|   rm|  age|   dis|rad|tax|ptratio|     b|lstat|medv|\n",
            "+-------+---+-----+----+-----+-----+-----+------+---+---+-------+------+-----+----+\n",
            "|13.5222|0.0| 18.1|   0|0.631|3.863|100.0|1.5106| 24|666|   20.2|131.42|13.33|23.1|\n",
            "|11.1081|0.0| 18.1|   0|0.668|4.906|100.0|1.1742| 24|666|   20.2| 396.9|34.77|13.8|\n",
            "|18.4982|0.0| 18.1|   0|0.668|4.138|100.0| 1.137| 24|666|   20.2| 396.9|37.97|13.8|\n",
            "|19.6091|0.0| 18.1|   0|0.671|7.313| 97.9|1.3163| 24|666|   20.2| 396.9|13.44|15.0|\n",
            "| 15.288|0.0| 18.1|   0|0.671|6.649| 93.3|1.3449| 24|666|   20.2|363.02|23.24|13.9|\n",
            "|23.6482|0.0| 18.1|   0|0.671| 6.38| 96.2|1.3861| 24|666|   20.2| 396.9|23.69|13.1|\n",
            "|17.8667|0.0| 18.1|   0|0.671|6.223|100.0|1.3861| 24|666|   20.2|393.74|21.78|10.2|\n",
            "|88.9762|0.0| 18.1|   0|0.671|6.968| 91.9|1.4165| 24|666|   20.2| 396.9|17.21|10.4|\n",
            "|15.8744|0.0| 18.1|   0|0.671|6.545| 99.1|1.5192| 24|666|   20.2| 396.9|21.08|10.9|\n",
            "|20.0849|0.0| 18.1|   0|  0.7|4.368| 91.2|1.4395| 24|666|   20.2|285.83|30.63| 8.8|\n",
            "|16.8118|0.0| 18.1|   0|  0.7|5.277| 98.1|1.4261| 24|666|   20.2| 396.9|30.81| 7.2|\n",
            "|24.3938|0.0| 18.1|   0|  0.7|4.652|100.0|1.4672| 24|666|   20.2| 396.9|28.28|10.5|\n",
            "|22.5971|0.0| 18.1|   0|  0.7|  5.0| 89.5|1.5184| 24|666|   20.2| 396.9|31.99| 7.4|\n",
            "|14.3337|0.0| 18.1|   0|  0.7| 4.88|100.0|1.5895| 24|666|   20.2|372.92|30.62|10.2|\n",
            "|11.5779|0.0| 18.1|   0|  0.7|5.036| 97.0|  1.77| 24|666|   20.2| 396.9|25.68| 9.7|\n",
            "|13.3598|0.0| 18.1|   0|0.693|5.887| 94.7|1.7821| 24|666|   20.2| 396.9|16.35|12.7|\n",
            "|38.3518|0.0| 18.1|   0|0.693|5.453|100.0|1.4896| 24|666|   20.2| 396.9|30.59| 5.0|\n",
            "|25.0461|0.0| 18.1|   0|0.693|5.987|100.0|1.5888| 24|666|   20.2| 396.9|26.77| 5.6|\n",
            "|14.2362|0.0| 18.1|   0|0.693|6.343|100.0|1.5741| 24|666|   20.2| 396.9|20.32| 7.2|\n",
            "|24.8017|0.0| 18.1|   0|0.693|5.349| 96.0|1.7028| 24|666|   20.2| 396.9|19.77| 8.3|\n",
            "+-------+---+-----+----+-----+-----+-----+------+---+---+-------+------+-----+----+\n",
            "only showing top 20 rows\n",
            "\n"
          ]
        }
      ]
    },
    {
      "cell_type": "markdown",
      "source": [
        "Formulate a hypothesis about the impact of the \"rm\" (average number of rooms) on median home value."
      ],
      "metadata": {
        "id": "Ci7pOpGh_iaa"
      }
    },
    {
      "cell_type": "code",
      "source": [
        "spark.sql(\"select round(corr(rm,medv),2) AS corr from boston_housing_data\").show()"
      ],
      "metadata": {
        "id": "jE2YLPtt--_N",
        "outputId": "d9d2899f-e842-412e-e35f-a9b427f0e501",
        "colab": {
          "base_uri": "https://localhost:8080/"
        }
      },
      "execution_count": 90,
      "outputs": [
        {
          "output_type": "stream",
          "name": "stdout",
          "text": [
            "+----+\n",
            "|corr|\n",
            "+----+\n",
            "| 0.7|\n",
            "+----+\n",
            "\n"
          ]
        }
      ]
    },
    {
      "cell_type": "markdown",
      "source": [
        "Task 9  Hypothesis Testing"
      ],
      "metadata": {
        "id": "3g23Aj7KCJbz"
      }
    },
    {
      "cell_type": "markdown",
      "source": [
        "Null Hypothesis (H₀): Assumes there is no relationship or impact between rm and medv. If statistical analysis fails to reject this hypothesis, it would imply that changes in rm do not lead to significant changes in medv.\n",
        "\n"
      ],
      "metadata": {
        "id": "joEQP2DlB_pN"
      }
    },
    {
      "cell_type": "markdown",
      "source": [
        "Alternative Hypothesis (H₁): Assumes there is indeed a relationship between rm and medv. A rejection of the null hypothesis in favor of the alternative would suggest that changes in rm are associated with changes in medv, either positively or negatively."
      ],
      "metadata": {
        "id": "V8nBAFKeCF7f"
      }
    },
    {
      "cell_type": "code",
      "source": [
        "rm_v  = spark.sql(\"select rm from boston_housing_data\").toPandas()\n",
        "medv_v = spark.sql(\"select medv from boston_housing_data\").toPandas()"
      ],
      "metadata": {
        "id": "BXuhq01bxvrf"
      },
      "execution_count": 92,
      "outputs": []
    },
    {
      "cell_type": "code",
      "source": [
        "import pandas as pd\n",
        "from scipy import stats"
      ],
      "metadata": {
        "id": "wy3pZVjuxvpE"
      },
      "execution_count": 93,
      "outputs": []
    },
    {
      "cell_type": "code",
      "source": [
        "t_stat, p_value = stats.ttest_ind(rm_v, medv_v)"
      ],
      "metadata": {
        "id": "jp9VLKYbxvms"
      },
      "execution_count": 96,
      "outputs": []
    },
    {
      "cell_type": "code",
      "source": [
        "# Step 5: Interpret Results\n",
        "print(f\"T-statistic: {t_stat}\")\n",
        "print(f\"P-value: {p_value}\")"
      ],
      "metadata": {
        "id": "IIvTbp8Xxvjz",
        "outputId": "4e2c4f53-7a08-4793-8425-08276e834317",
        "colab": {
          "base_uri": "https://localhost:8080/"
        }
      },
      "execution_count": 99,
      "outputs": [
        {
          "output_type": "stream",
          "name": "stdout",
          "text": [
            "T-statistic: [-39.6246115]\n",
            "P-value: [6.4901675e-208]\n"
          ]
        }
      ]
    },
    {
      "cell_type": "markdown",
      "source": [
        "\n",
        "Since the t-statistic is negative, it indicates that as the average number of rooms (rm) increases, the median home value (medv) tends to decrease. However, this relationship should be interpreted cautiously and further analysis may be required to understand the nature and direction of this relationship more comprehensively.\n",
        "\n",
        "In summary, your analysis using the t-test suggests that there is a statistically significant relationship between the number of rooms and median home values in the Boston Housing Dataset.\n",
        "\n",
        "\n",
        "\n",
        "\n",
        "\n"
      ],
      "metadata": {
        "id": "LACRkFkTCZAw"
      }
    },
    {
      "cell_type": "code",
      "source": [],
      "metadata": {
        "id": "XLvrYVVQxvcj"
      },
      "execution_count": null,
      "outputs": []
    },
    {
      "cell_type": "markdown",
      "source": [],
      "metadata": {
        "id": "EdCGMWX0xvML"
      }
    }
  ],
  "metadata": {
    "colab": {
      "name": "Welcome To Colab",
      "provenance": []
    },
    "kernelspec": {
      "display_name": "Python 3",
      "name": "python3"
    }
  },
  "nbformat": 4,
  "nbformat_minor": 0
}